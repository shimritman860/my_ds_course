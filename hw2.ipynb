{
 "cells": [
  {
   "cell_type": "code",
   "execution_count": 9,
   "metadata": {},
   "outputs": [
    {
     "name": "stdout",
     "output_type": "stream",
     "text": [
      "21\n"
     ]
    }
   ],
   "source": [
    "height_meters=1.6\n",
    "weight_kilograms=55\n",
    "\n",
    "BMI=weight_kilograms/height_meters**2\n",
    "print(\"%d\" %BMI)"
   ]
  },
  {
   "cell_type": "code",
   "execution_count": 2,
   "metadata": {},
   "outputs": [
    {
     "name": "stdout",
     "output_type": "stream",
     "text": [
      "my height is 1 meters, my weight is 55 kilograms, and my BMI is 21\n"
     ]
    }
   ],
   "source": [
    "print(\"my height is %d\" %height_meters, \"meters, my weight is %d\" %weight_kilograms, \"kilograms, and my BMI is %d\" %BMI)"
   ]
  },
  {
   "cell_type": "code",
   "execution_count": 3,
   "metadata": {},
   "outputs": [
    {
     "name": "stdout",
     "output_type": "stream",
     "text": [
      "15\n"
     ]
    }
   ],
   "source": [
    "first_name=\"shimrit\"\n",
    "last_name=\"manzouri\"\n",
    "print((len(first_name+last_name)))"
   ]
  },
  {
   "cell_type": "code",
   "execution_count": 4,
   "metadata": {},
   "outputs": [
    {
     "name": "stdout",
     "output_type": "stream",
     "text": [
      "shimrit manzouri\n"
     ]
    }
   ],
   "source": [
    "full_name=first_name+\" \"+last_name\n",
    "print(full_name)"
   ]
  },
  {
   "cell_type": "code",
   "execution_count": 5,
   "metadata": {},
   "outputs": [
    {
     "name": "stdout",
     "output_type": "stream",
     "text": [
      "shImrIt mAnzOUrI\n"
     ]
    }
   ],
   "source": [
    "temp = full_name.replace(\"o\",\"O\")\n",
    "temp = temp.replace(\"e\",\"E\")\n",
    "temp = temp.replace(\"i\",\"I\")\n",
    "temp = temp.replace(\"u\",\"U\")\n",
    "temp = temp.replace(\"a\",\"A\")\n",
    "\n",
    "print(temp)"
   ]
  },
  {
   "cell_type": "code",
   "execution_count": 6,
   "metadata": {},
   "outputs": [
    {
     "name": "stdout",
     "output_type": "stream",
     "text": [
      "False\n",
      "True\n",
      "False\n",
      "False\n"
     ]
    }
   ],
   "source": [
    "age_shimrit=38\n",
    "age_smadar=47\n",
    "gender_shimrit=\"female\"\n",
    "gender_smadar=\"female\"\n",
    "city_shimrit=\"modiin\"\n",
    "city_smadar=\"rishon_lezion\"\n",
    "status_shimrit=\"married\"\n",
    "status_smadar=\"not married\"\n",
    "\n",
    "same_city = city_shimrit == city_smadar\n",
    "print(same_city)\n",
    "\n",
    "is_older = age_smadar > age_shimrit\n",
    "print(is_older)\n",
    "\n",
    "diff_gender = gender_shimrit != gender_smadar\n",
    "print(diff_gender)\n",
    "\n",
    "both_married = status_shimrit == status_smadar\n",
    "print(both_married)"
   ]
  },
  {
   "cell_type": "code",
   "execution_count": null,
   "metadata": {
    "collapsed": true
   },
   "outputs": [],
   "source": []
  }
 ],
 "metadata": {
  "kernelspec": {
   "display_name": "Python 3",
   "language": "python",
   "name": "python3"
  },
  "language_info": {
   "codemirror_mode": {
    "name": "ipython",
    "version": 3
   },
   "file_extension": ".py",
   "mimetype": "text/x-python",
   "name": "python",
   "nbconvert_exporter": "python",
   "pygments_lexer": "ipython3",
   "version": "3.6.3"
  }
 },
 "nbformat": 4,
 "nbformat_minor": 2
}
