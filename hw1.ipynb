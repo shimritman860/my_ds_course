{
 "cells": [
  {
   "cell_type": "code",
   "execution_count": null,
   "metadata": {},
   "outputs": [
    {
     "name": "stdout",
     "output_type": "stream",
     "text": [
      "I have chosen a number between 1 and 100.\n",
      "Please try to guess it...\n",
      "50\n",
      "Wrong!  sorry, You are too low, please try again...\n",
      "70\n",
      "Wrong!  sorry, You are too low, please try again...\n",
      "99\n",
      "Wrong!  sorry, You are too high, please try again...\n",
      "55\n",
      "Wrong!  sorry, You are too low, please try again...\n",
      "80\n",
      "Wrong!  sorry, You are too low, please try again...\n",
      "90\n",
      "Wrong!  sorry, You are too high, please try again...\n",
      "88\n",
      "Wrong!  sorry, You are too high, please try again...\n",
      "87\n",
      "Wrong!  sorry, You are too high, please try again...\n",
      "86\n",
      "Wrong!  sorry, You are too high, please try again...\n",
      "83\n",
      "Wrong!  sorry, You are too low, please try again...\n",
      "84\n",
      "Finally :-)\n",
      "GAME OVER\n"
     ]
    }
   ],
   "source": [
    "import random\n",
    "my_number = random.randint(1, 100)\n",
    "\n",
    "print(\"\"\"I have chosen a number between 1 and 100.\n",
    "Please try to guess it...\"\"\")\n",
    "\n",
    "user_guess = int(input())\n",
    "too_low = \"You are too low, please try again...\"\n",
    "too_high = \"You are too high, please try again...\"\n",
    "\n",
    "while my_number != user_guess:\n",
    "    print(\"Wrong! \", end=' ')\n",
    "    print ((\"sorry, %s\" %too_low) if my_number > user_guess else (\"sorry, %s\" %too_high))\n",
    "    user_guess = int(input())\n",
    "    \n",
    "print(\"\"\"Finally :-)\n",
    "GAME OVER\"\"\")"
   ]
  }
 ],
 "metadata": {
  "kernelspec": {
   "display_name": "Python 3",
   "language": "python",
   "name": "python3"
  },
  "language_info": {
   "codemirror_mode": {
    "name": "ipython",
    "version": 3
   },
   "file_extension": ".py",
   "mimetype": "text/x-python",
   "name": "python",
   "nbconvert_exporter": "python",
   "pygments_lexer": "ipython3",
   "version": "3.6.3"
  }
 },
 "nbformat": 4,
 "nbformat_minor": 2
}
