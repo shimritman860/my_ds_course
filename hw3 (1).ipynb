{
 "cells": [
  {
   "cell_type": "code",
   "execution_count": 1,
   "metadata": {},
   "outputs": [
    {
     "name": "stdout",
     "output_type": "stream",
     "text": [
      "['liran', 'ofek', 'sharon', 'erez']\n",
      "['shani', 'adi', 'lior', 'shira']\n",
      "['shani', 'adi', 'lior']\n",
      "shira\n",
      "['ofek', 'sharon', 'erez']\n",
      "liran\n",
      "['ofek', 'sharon']\n",
      "['ofek', 'sharon', 'shani', 'adi', 'lior']\n"
     ]
    }
   ],
   "source": [
    "boys_list=[\"liran\",\"ofek\",\"sharon\"]\n",
    "girls_list=[\"adi\",\"lior\",\"shira\"]\n",
    "\n",
    "boys_list.append(\"erez\")\n",
    "print(boys_list)\n",
    "\n",
    "girls_list.insert(0,\"shani\")\n",
    "print(girls_list)\n",
    "\n",
    "output=girls_list.pop()\n",
    "print(girls_list)\n",
    "\n",
    "bride=output\n",
    "print(bride)\n",
    "\n",
    "output=boys_list.pop(0)\n",
    "print(boys_list)\n",
    "\n",
    "groom=output\n",
    "print(groom)\n",
    "\n",
    "output=boys_list.remove(\"erez\")\n",
    "#we Can't do it without knowing the actual name of the last boy.\n",
    "print(boys_list)\n",
    "\n",
    "names_list=boys_list+girls_list\n",
    "print(names_list)\n",
    "#extend() don't appropriate becouse we need a new list and extend just change the list."
   ]
  },
  {
   "cell_type": "code",
   "execution_count": 28,
   "metadata": {},
   "outputs": [
    {
     "name": "stdout",
     "output_type": "stream",
     "text": [
      "my name is shimrit manzouri\n",
      "my\n",
      "name\n",
      "is\n",
      "shimrit\n",
      "manzouri\n",
      "4\n",
      "4\n"
     ]
    }
   ],
   "source": [
    "sentence=\"my name is shimrit manzouri\"\n",
    "print(sentence)\n",
    "print(\"\\n\".join(sentence.split()))\n",
    "print(sentence.count(\"m\"))\n",
    "\n",
    "list_sentence=list(sentence)\n",
    "\n",
    "list_m=[]        \n",
    "for x in list_sentence:\n",
    "    if x == \"m\":\n",
    "        list_m.append(x)\n",
    "print (len(list_m))"
   ]
  },
  {
   "cell_type": "code",
   "execution_count": 26,
   "metadata": {},
   "outputs": [
    {
     "name": "stdout",
     "output_type": "stream",
     "text": [
      "['sharon', 41, 'married']\n",
      "[['sharon', 41, 'married'], ['erez', '35', 'married'], ['ben', '25', 'single']]\n",
      "[['sharon', 41, 'married'], ['erez', '35', 'married'], ['ben', '25', 'single'], ['yoram', '50', 'single']]\n",
      "[['sharon', 41, 'married'], ['erez', '35', 'married'], ['ben', '25', 'single'], ['yoram', 55, 'single']]\n",
      "[['sharon', 41, 'married'], ['erez', '35', 'married'], ['yoram', 55, 'single']]\n",
      "[['sharon', 41, 'married'], ['erez', '35', 'married']]\n"
     ]
    }
   ],
   "source": [
    "guy1_details=[\"sharon\", \"40\", \"married\"]\n",
    "guy2_details=[\"erez\", \"35\", \"married\"]\n",
    "guy3_details=[\"ben\", \"25\", \"single\"]\n",
    "\n",
    "guy1_details[1]=41\n",
    "print(guy1_details)\n",
    "\n",
    "guys_details=[guy1_details]+[guy2_details]+[guy3_details]\n",
    "print(guys_details)\n",
    "\n",
    "guy4_deyails=[\"yoram\", \"50\", \"single\"]\n",
    "guys_details.append(guy4_deyails)\n",
    "print(guys_details)\n",
    "\n",
    "guys_details[3][1]=55\n",
    "print(guys_details)\n",
    "\n",
    "guys_details.pop(2)\n",
    "print(guys_details)\n",
    "\n",
    "guys_details.remove(['yoram', 55, 'single'])\n",
    "print(guys_details)\n"
   ]
  },
  {
   "cell_type": "code",
   "execution_count": null,
   "metadata": {
    "collapsed": true
   },
   "outputs": [],
   "source": []
  }
 ],
 "metadata": {
  "kernelspec": {
   "display_name": "Python 3",
   "language": "python",
   "name": "python3"
  },
  "language_info": {
   "codemirror_mode": {
    "name": "ipython",
    "version": 3
   },
   "file_extension": ".py",
   "mimetype": "text/x-python",
   "name": "python",
   "nbconvert_exporter": "python",
   "pygments_lexer": "ipython3",
   "version": "3.6.3"
  }
 },
 "nbformat": 4,
 "nbformat_minor": 2
}
